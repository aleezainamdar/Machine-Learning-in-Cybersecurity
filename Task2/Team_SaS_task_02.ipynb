{
  "cells": [
    {
      "cell_type": "markdown",
      "metadata": {
        "id": "4NzyqehHjUlG"
      },
      "source": [
        "# ML in Cybersecurity: Task II\n",
        "\n",
        "## Team\n",
        "  * **Team name**:  SaS\n",
        "  * **Members**:  Aleeza Suhel Inamdar (alin00002@stud.uni-saarland.de), Shantanu Kumar Rahut (shra00001@stud.uni-saarland.de), Shashank Priyadarshi (shpr00001@stud.uni-saarland.de)\n",
        "\n",
        "\n",
        "## Logistics\n",
        "  * **Due date**: 26th Dec. 2023, 23:59:59 (email the completed notebook including outputs to raouf.kerkouche@cispa.de)\n",
        "  * Feel free to use the course forum to discuss.\n",
        "  \n",
        "  \n",
        "## About this Project\n",
        "In this project, we dive into the vulnerabilities of machine learning models and the difficulties of defending against them. To this end, we ask you to implement an evasion attack (craft adversarial examples) yourselves, and defend your own model.\n",
        "\n",
        "\n",
        "## Filling-in the Notebook\n",
        "You'll be submitting this very notebook that is filled-in with (all) your code and analysis. Make sure you submit one that has been previously executed in-order. (So that results/graphs are already visible upon opening it).\n",
        "\n",
        "The notebook you submit **should compile** (or should be self-contained and sufficiently commented). Check tutorial 1 on how to set up the Python3 environment.\n",
        "\n",
        "It is extremely important that you **do not** re-order the existing sections. Apart from that, the code blocks that you need to fill-in are given by:\n",
        "```\n",
        "#\n",
        "#\n",
        "# ------- Your Code -------\n",
        "#\n",
        "#\n",
        "```\n",
        "Feel free to break this into multiple-cells. It's even better if you interleave explanations and code-blocks so that the entire notebook forms a readable \"story\".\n",
        "\n",
        "\n",
        "## Code of Honor\n",
        "We encourage discussing ideas and concepts with other students to help you learn and better understand the course content. However, the work you submit and present **must be original** and demonstrate your effort in solving the presented problems. **We will not tolerate** blatantly using existing solutions (such as from the internet), improper collaboration (e.g., sharing code or experimental data between groups) and plagiarism. If the honor code is not met, no points will be awarded.\n",
        "\n",
        "\n",
        "  ---"
      ]
    },
    {
      "cell_type": "code",
      "execution_count": null,
      "metadata": {
        "id": "3ewNwfFvbFaR"
      },
      "outputs": [],
      "source": [
        "import time\n",
        "\n",
        "import numpy as np\n",
        "import matplotlib.pyplot as plt\n",
        "\n",
        "import json\n",
        "import time\n",
        "import pickle\n",
        "import sys\n",
        "import csv\n",
        "import os\n",
        "import os.path as osp\n",
        "import shutil\n",
        "\n",
        "import pandas as pd\n",
        "\n",
        "from IPython.display import display, HTML\n",
        "\n",
        "%matplotlib inline\n",
        "plt.rcParams['figure.figsize'] = (10.0, 8.0) # set default size of plots\n",
        "plt.rcParams['image.interpolation'] = 'nearest'\n",
        "plt.rcParams['image.cmap'] = 'gray'\n",
        "\n",
        "# for auto-reloading external modules\n",
        "# see http://stackoverflow.com/questions/1907993/autoreload-of-modules-in-ipython\n",
        "%load_ext autoreload\n",
        "%autoreload 2"
      ]
    },
    {
      "cell_type": "code",
      "execution_count": null,
      "metadata": {
        "id": "640GrzbOevr0"
      },
      "outputs": [],
      "source": [
        "# Some suggestions of our libraries that might be helpful for this project\n",
        "from collections import Counter          # an even easier way to count\n",
        "from multiprocessing import Pool         # for multiprocessing\n",
        "from tqdm import tqdm                    # fancy progress bars\n",
        "\n",
        "# Load other libraries here.\n",
        "# Keep it minimal! We should be easily able to reproduce your code.\n",
        "# We only support sklearn and pytorch.\n",
        "import torchvision.datasets as datasets\n",
        "import torchvision.transforms as transforms\n",
        "import torch.utils.data as data\n",
        "\n",
        "# We preload pytorch as an example\n",
        "import torch\n",
        "import torch.nn as nn\n",
        "import torch.nn.functional as F\n",
        "import torch.optim as optim\n",
        "from torch.utils.data import DataLoader, Dataset, TensorDataset"
      ]
    },
    {
      "cell_type": "code",
      "execution_count": null,
      "metadata": {
        "id": "GJZPEAWYMhYB"
      },
      "outputs": [],
      "source": [
        "compute_mode = 'gpu'\n",
        "\n",
        "if compute_mode == 'cpu':\n",
        "    device = torch.device('cpu')\n",
        "elif compute_mode == 'gpu':\n",
        "    # If you are using pytorch on the GPU cluster, you have to manually specify which GPU device to use\n",
        "    # It is extremely important that you *do not* spawn multi-GPU jobs.\n",
        "    os.environ[\"CUDA_VISIBLE_DEVICES\"] = '0'    # Set device ID here\n",
        "    device = torch.device('cuda')\n",
        "else:\n",
        "    raise ValueError('Unrecognized compute mode')"
      ]
    },
    {
      "cell_type": "markdown",
      "metadata": {
        "id": "nxi-lLD0mKHD"
      },
      "source": [
        "#### Helpers\n",
        "\n",
        "In case you choose to have some methods you plan to reuse during the notebook, define them here. This will avoid clutter and keep rest of the notebook succinct."
      ]
    },
    {
      "cell_type": "code",
      "execution_count": null,
      "metadata": {
        "id": "VBbigqdEmKd8"
      },
      "outputs": [],
      "source": [
        "import torch\n",
        "import torch.nn as nn\n",
        "import torch.optim as optim\n",
        "import torchvision\n",
        "import torchvision.transforms as transforms\n",
        "from torch.utils.data import DataLoader"
      ]
    },
    {
      "cell_type": "markdown",
      "metadata": {
        "id": "n1pcmKkyjT7y"
      },
      "source": [
        "# 1. Attacking an ML-model\n",
        "\n",
        "In this section, we implement an attack ourselves. First, however, you need a model you can attack. Feel free to choose the DNN/ConvNN from task 1.\n",
        "\n"
      ]
    },
    {
      "cell_type": "markdown",
      "metadata": {
        "id": "QaJv_d_Dp7OM"
      },
      "source": [
        "## 1.1: Setting up the model and data\n",
        "\n",
        "Load the MNIST data, as done in task 1.\n",
        "\n",
        "Re-use the model from task 1 here and train it until it achieves reasonable accuracy (>92%).\n",
        "\n",
        "If you have the saved checkpoint from task 1, you can load it directly. But please compute here the test accuracy using this checkpoint.  \n",
        "\n",
        "**Hint:** In order to save computation time for the rest of exercise, you might consider having a relatively small model here.\n",
        "\n",
        "**Hint**: You might want to save the trained model to save time later."
      ]
    },
    {
      "cell_type": "code",
      "execution_count": null,
      "metadata": {
        "colab": {
          "base_uri": "https://localhost:8080/"
        },
        "id": "c688qdGtO1v-",
        "outputId": "833b7dcb-e6d1-4ea8-e4ec-880ed079436a"
      },
      "outputs": [
        {
          "output_type": "stream",
          "name": "stdout",
          "text": [
            "Downloading http://yann.lecun.com/exdb/mnist/train-images-idx3-ubyte.gz\n",
            "Downloading http://yann.lecun.com/exdb/mnist/train-images-idx3-ubyte.gz to ./data/MNIST/raw/train-images-idx3-ubyte.gz\n"
          ]
        },
        {
          "output_type": "stream",
          "name": "stderr",
          "text": [
            "100%|██████████| 9912422/9912422 [00:00<00:00, 271704709.54it/s]"
          ]
        },
        {
          "output_type": "stream",
          "name": "stdout",
          "text": [
            "Extracting ./data/MNIST/raw/train-images-idx3-ubyte.gz to ./data/MNIST/raw\n"
          ]
        },
        {
          "output_type": "stream",
          "name": "stderr",
          "text": [
            "\n"
          ]
        },
        {
          "output_type": "stream",
          "name": "stdout",
          "text": [
            "\n",
            "Downloading http://yann.lecun.com/exdb/mnist/train-labels-idx1-ubyte.gz\n",
            "Downloading http://yann.lecun.com/exdb/mnist/train-labels-idx1-ubyte.gz to ./data/MNIST/raw/train-labels-idx1-ubyte.gz\n"
          ]
        },
        {
          "output_type": "stream",
          "name": "stderr",
          "text": [
            "100%|██████████| 28881/28881 [00:00<00:00, 44584355.47it/s]\n"
          ]
        },
        {
          "output_type": "stream",
          "name": "stdout",
          "text": [
            "Extracting ./data/MNIST/raw/train-labels-idx1-ubyte.gz to ./data/MNIST/raw\n",
            "\n",
            "Downloading http://yann.lecun.com/exdb/mnist/t10k-images-idx3-ubyte.gz\n",
            "Downloading http://yann.lecun.com/exdb/mnist/t10k-images-idx3-ubyte.gz to ./data/MNIST/raw/t10k-images-idx3-ubyte.gz\n"
          ]
        },
        {
          "output_type": "stream",
          "name": "stderr",
          "text": [
            "100%|██████████| 1648877/1648877 [00:00<00:00, 160536011.99it/s]"
          ]
        },
        {
          "output_type": "stream",
          "name": "stdout",
          "text": [
            "Extracting ./data/MNIST/raw/t10k-images-idx3-ubyte.gz to ./data/MNIST/raw\n",
            "\n",
            "Downloading http://yann.lecun.com/exdb/mnist/t10k-labels-idx1-ubyte.gz\n"
          ]
        },
        {
          "output_type": "stream",
          "name": "stderr",
          "text": [
            "\n"
          ]
        },
        {
          "output_type": "stream",
          "name": "stdout",
          "text": [
            "Downloading http://yann.lecun.com/exdb/mnist/t10k-labels-idx1-ubyte.gz to ./data/MNIST/raw/t10k-labels-idx1-ubyte.gz\n"
          ]
        },
        {
          "output_type": "stream",
          "name": "stderr",
          "text": [
            "100%|██████████| 4542/4542 [00:00<00:00, 10536796.88it/s]\n"
          ]
        },
        {
          "output_type": "stream",
          "name": "stdout",
          "text": [
            "Extracting ./data/MNIST/raw/t10k-labels-idx1-ubyte.gz to ./data/MNIST/raw\n",
            "\n"
          ]
        },
        {
          "output_type": "stream",
          "name": "stderr",
          "text": [
            "/usr/local/lib/python3.10/dist-packages/torch/utils/data/dataloader.py:557: UserWarning: This DataLoader will create 4 worker processes in total. Our suggested max number of worker in current system is 2, which is smaller than what this DataLoader is going to create. Please be aware that excessive worker creation might get DataLoader running slow or even freeze, lower the worker number to avoid potential slowness/freeze if necessary.\n",
            "  warnings.warn(_create_warning_msg(\n"
          ]
        },
        {
          "output_type": "stream",
          "name": "stdout",
          "text": [
            "Epoch 4, Train acc: 0.994033, Test acc: 0.989500\n"
          ]
        }
      ],
      "source": [
        "# (1)load data\n",
        "transform = transforms.Compose([transforms.ToTensor(), transforms.Normalize((0.5,), (0.5,))])\n",
        "train_dataset = torchvision.datasets.MNIST(root='./data', train=True, download=True, transform=transform)\n",
        "test_dataset = torchvision.datasets.MNIST(root='./data', train=False, download=True, transform=transform)\n",
        "\n",
        "train_loader = DataLoader(train_dataset, batch_size=64, shuffle=True, num_workers=4)\n",
        "test_loader = DataLoader(test_dataset, batch_size=64, shuffle=False, num_workers=4)\n",
        "\n",
        "# (2)define model\n",
        "class MNISTCNN(nn.Module):\n",
        "    def __init__(self):\n",
        "        super(MNISTCNN, self).__init__()\n",
        "        self.conv1 = nn.Conv2d(1, 32, kernel_size=3, stride=1, padding=1)\n",
        "        self.conv2 = nn.Conv2d(32, 64, kernel_size=3, stride=1, padding=1)\n",
        "        self.pool = nn.MaxPool2d(kernel_size=2, stride=2, padding=0)\n",
        "        self.fc1 = nn.Linear(64 * 7 * 7, 128)\n",
        "        self.fc2 = nn.Linear(128, 10)\n",
        "\n",
        "    def forward(self, x):\n",
        "        x = self.pool(F.relu(self.conv1(x)))\n",
        "        x = self.pool(F.relu(self.conv2(x)))\n",
        "        x = x.view(-1, 64 * 7 * 7)\n",
        "        x = F.relu(self.fc1(x))\n",
        "        x = self.fc2(x)\n",
        "        return x\n",
        "# (3)define loss, optimizer\n",
        "model = MNISTCNN()\n",
        "criterion = nn.CrossEntropyLoss()\n",
        "optimizer = optim.Adam(model.parameters(), lr=0.001)\n",
        "\n",
        "# (4)train (You can re-use the trained model from project1)\n",
        "epochs = 5\n",
        "for epoch in range(epochs):\n",
        "    model.train()\n",
        "    running_loss = 0.0\n",
        "    correct_train = 0\n",
        "    total_train = 0\n",
        "\n",
        "    for inputs, labels in train_loader:\n",
        "        optimizer.zero_grad()\n",
        "        outputs = model(inputs)\n",
        "        loss = criterion(outputs, labels)\n",
        "        loss.backward()\n",
        "        optimizer.step()\n",
        "\n",
        "        running_loss += loss.item()\n",
        "\n",
        "        _, predicted = torch.max(outputs.data, 1)\n",
        "        total_train += labels.size(0)\n",
        "        correct_train += (predicted == labels).sum().item()\n",
        "\n",
        "    train_acc = correct_train / total_train\n",
        "    average_loss = running_loss / len(train_loader)\n",
        "\n",
        "# (5)evaluate\n",
        "model.eval()\n",
        "correct = 0\n",
        "total = 0\n",
        "\n",
        "with torch.no_grad():\n",
        "    for inputs, labels in test_loader:\n",
        "        outputs = model(inputs)\n",
        "        _, predicted = torch.max(outputs.data, 1)\n",
        "        total += labels.size(0)\n",
        "        correct += (predicted == labels).sum().item()\n",
        "test_acc = correct / total\n",
        "print('Epoch %d, Train acc: %f, Test acc: %f' % (epoch, train_acc, test_acc))"
      ]
    },
    {
      "cell_type": "markdown",
      "metadata": {
        "id": "DEQrdyLHsUIu"
      },
      "source": [
        "## 1.2: Implementing the FGSM attack\n",
        "\n",
        "We now want to attack the model trained in the previous step. We will start with the FGSM attack as a simple example.\n",
        "\n",
        "Please implement the FGSM attack mentioned in the lecture.\n",
        "\n",
        "More details: https://arxiv.org/pdf/1412.6572.pdf\n"
      ]
    },
    {
      "cell_type": "code",
      "source": [
        "def fgsm(model, X, y, epsilon=0.1):\n",
        "    X.requires_grad = True\n",
        "    model.zero_grad()\n",
        "    output = model(X)\n",
        "    loss = nn.CrossEntropyLoss()(output, y)\n",
        "    loss.backward()\n",
        "    perturbation = epsilon * torch.sign(X.grad.detach())\n",
        "    perturbed_X = X + perturbation\n",
        "\n",
        "    return perturbed_X"
      ],
      "metadata": {
        "id": "sb1HzyRCUs4z"
      },
      "execution_count": null,
      "outputs": []
    },
    {
      "cell_type": "markdown",
      "metadata": {
        "id": "RNpI3oUoO1wE"
      },
      "source": [
        "## 1.3: Adversarial sample set\n",
        "\n",
        "* Please generate a dataset containing at least 1,000 adversarial examples using FGSM.\n",
        "\n",
        "* Please vary the perturbation budget (3 variants) and generate 1,000 adversarial examples for each.\n",
        "    * **Hint**: you can choose epsilons within, e.g., = [.05, .1, .15, .2, .25, .3],  using MNIST pixel values in the interval       [0, 1]\n",
        "\n",
        "* Compute the accuracy of each attack set."
      ]
    },
    {
      "cell_type": "code",
      "execution_count": null,
      "metadata": {
        "colab": {
          "base_uri": "https://localhost:8080/"
        },
        "id": "EvYpo9p2O1wF",
        "outputId": "0e7f0e64-d458-40a2-85d9-7065fd6f742d"
      },
      "outputs": [
        {
          "output_type": "stream",
          "name": "stderr",
          "text": [
            "Epsilon = 0.05: 100%|██████████| 157/157 [00:03<00:00, 44.03it/s]\n"
          ]
        },
        {
          "output_type": "stream",
          "name": "stdout",
          "text": [
            "Epsilon=0.05, Accuracy: 97.27%\n"
          ]
        },
        {
          "output_type": "stream",
          "name": "stderr",
          "text": [
            "Epsilon = 0.1: 100%|██████████| 157/157 [00:03<00:00, 51.16it/s]\n"
          ]
        },
        {
          "output_type": "stream",
          "name": "stdout",
          "text": [
            "Epsilon=0.1, Accuracy: 93.81%\n"
          ]
        },
        {
          "output_type": "stream",
          "name": "stderr",
          "text": [
            "Epsilon = 0.25: 100%|██████████| 157/157 [00:04<00:00, 39.18it/s]"
          ]
        },
        {
          "output_type": "stream",
          "name": "stdout",
          "text": [
            "Epsilon=0.25, Accuracy: 63.77%\n"
          ]
        },
        {
          "output_type": "stream",
          "name": "stderr",
          "text": [
            "\n"
          ]
        }
      ],
      "source": [
        "import time\n",
        "eps = [0.05, 0.1, 0.25]\n",
        "attacked_ds = {}\n",
        "accuracy_attacked = {}\n",
        "model = model.to(device)\n",
        "for epsilon in eps:\n",
        "  perturbed_images_epsilon = []\n",
        "  success_rate_epsilon = 0.0\n",
        "  correct = 0\n",
        "  total = 0\n",
        "  time_arr = []\n",
        "  for images, labels in tqdm(test_loader, desc=f'Epsilon = {epsilon}'):\n",
        "      images, labels = images.to(device), labels.to(device)\n",
        "      perturbed_image = fgsm(model, images, labels, epsilon)\n",
        "      perturbed_prediction = model(perturbed_image)\n",
        "      perturbed_image = torch.clamp(perturbed_image.squeeze(), 0, 1)\n",
        "      perturbed_images_epsilon.append(perturbed_image)\n",
        "      _, predicted = torch.max(perturbed_prediction.data, 1)\n",
        "      total += labels.size(0)\n",
        "      correct += (predicted == labels).sum().item()\n",
        "\n",
        "  accuracy = correct / total\n",
        "  accuracy_attacked[epsilon] = accuracy\n",
        "  print(f'Epsilon={epsilon}, Accuracy: {accuracy * 100:.2f}%')\n",
        "  attacked_ds[epsilon] = perturbed_images_epsilon"
      ]
    },
    {
      "cell_type": "markdown",
      "metadata": {
        "id": "Ex3qQp3JolD1"
      },
      "source": [
        "## 1.4: Visualizing the results\n",
        "\n",
        "* Please chose one sample for each class (for example the first when iterating the test data) and plot the (ten) adversarial examples as well as the predicted label (before and after the attack)\n",
        "\n",
        "* Please repeat the visualization for the three sets you have created"
      ]
    },
    {
      "cell_type": "code",
      "execution_count": null,
      "metadata": {
        "colab": {
          "base_uri": "https://localhost:8080/",
          "height": 1000
        },
        "id": "eGkp0B0PO1wJ",
        "outputId": "348cfbd4-0d43-439b-e520-51d626434809"
      },
      "outputs": [
        {
          "output_type": "stream",
          "name": "stderr",
          "text": [
            "/usr/local/lib/python3.10/dist-packages/torch/utils/data/dataloader.py:557: UserWarning: This DataLoader will create 4 worker processes in total. Our suggested max number of worker in current system is 2, which is smaller than what this DataLoader is going to create. Please be aware that excessive worker creation might get DataLoader running slow or even freeze, lower the worker number to avoid potential slowness/freeze if necessary.\n",
            "  warnings.warn(_create_warning_msg(\n"
          ]
        },
        {
          "output_type": "display_data",
          "data": {
            "text/plain": [
              "<Figure size 1500x1500 with 44 Axes>"
            ],
            "image/png": "[encoded data removed]"
          },
          "metadata": {}
        }
      ],
      "source": [
        "def visualize_samples(ax, images, predictions, title):\n",
        "    ax.imshow(np.transpose(torchvision.utils.make_grid(images, padding=5, normalize=True), (1, 2, 0)))\n",
        "    ax.set_title(title, fontdict={'fontsize': 18, 'color': 'b'})\n",
        "    ax.axis('off')\n",
        "class_samples = {}\n",
        "for images, labels in test_loader:\n",
        "    for i in range(len(labels)):\n",
        "        label = labels[i].item()\n",
        "        if label not in class_samples:\n",
        "            class_samples[label] = images[i]\n",
        "        if len(class_samples) == 10:\n",
        "            break\n",
        "    if len(class_samples) == 10:\n",
        "        break\n",
        "\n",
        "fig, axes = plt.subplots(11, len(attacked_ds) + 1, figsize=(15, 15))\n",
        "[ax.set_axis_off() for ax in axes.ravel()]\n",
        "\n",
        "for i, (label, image) in enumerate(class_samples.items()):\n",
        "    axes[i, 0].imshow(np.transpose(torchvision.utils.make_grid(image.unsqueeze(0), normalize=True).numpy(), (1, 2, 0)))\n",
        "    axes[i, 0].set_title(f'Class {label}')\n",
        "    axes[i, 0].axis('off')\n",
        "model = model.cpu()\n",
        "for j, (epsilon, (perturbed_images)) in enumerate(attacked_ds.items()):\n",
        "    for i, (label, original_image) in enumerate(class_samples.items()):\n",
        "        perturbed_image_batch = perturbed_images[i]\n",
        "        perturbed_image = perturbed_image_batch[0].cpu().detach().numpy()\n",
        "\n",
        "        axes[i, j + 1].imshow(np.transpose(torchvision.utils.make_grid(torch.from_numpy(perturbed_image).unsqueeze(0), normalize=True).numpy(), (1, 2, 0)))\n",
        "        axes[i, j + 1].set_title(f'Epsilon={epsilon}\\nPred: {model(original_image.unsqueeze(0)).argmax().item()} -> {model(torch.from_numpy(perturbed_image).unsqueeze(0)).argmax().item()}')\n",
        "        axes[i, j + 1].axis('off')\n",
        "\n",
        "plt.tight_layout()\n",
        "plt.show()\n"
      ]
    },
    {
      "cell_type": "markdown",
      "metadata": {
        "id": "RXWsczMe6hFa"
      },
      "source": [
        "## 1.5: Analyzing the results\n",
        "\n",
        "Please write a brief summary of your findings.  \n",
        "\n",
        "* Does the attack always succeed (the model makes wrong prediction on the adversarial sample)? What is the relationship between the attack success rate and the perturbation budget?\n",
        "* How about the computation cost of the attack? (you can report the time in second)\n",
        "* Does the attack require white-box access to the model?\n",
        "* Feel free to report your results via tables or figures, and mention any other interesting observations\n",
        "\n"
      ]
    },
    {
      "cell_type": "markdown",
      "metadata": {
        "id": "lDFoQl2o6hFb"
      },
      "source": [
        "*   No the attack on always succeed, it depends on input and how well the models understands it, we can increase the peturbation budget to increase the noise in the sample to make the model succeed in the attack. Attack success rate increases on increaseing the perturbation budget.\n",
        "* On an average it takes around 0.00406seconds\n",
        "* Yeah FGSM is an white box attack"
      ]
    },
    {
      "cell_type": "markdown",
      "metadata": {
        "id": "KJUmrv5Bymij"
      },
      "source": [
        "# 2. Defending an ML model\n",
        "\n",
        "So far, we have focused on attacking an ML model. In this section, we want you to defend your model.\n"
      ]
    },
    {
      "cell_type": "markdown",
      "metadata": {
        "id": "0gHUFK6Mymik"
      },
      "source": [
        "## 2.1: Implementing the adversarial training defense\n",
        "\n",
        "* We would like to ask you to implement the adversarial training defense (https://arxiv.org/pdf/1412.6572.pdf) mentioned in the lecture.\n",
        "\n",
        "* You can use the **FGSM adversarial training** method (i.e., train on FGSM examples).\n",
        "\n",
        "* You can also check the adversarial training implementation in other papers, e.g., http://proceedings.mlr.press/v97/pang19a/pang19a.pdf\n",
        "\n",
        "* Choose a certain **maximum perturbation budget** during training that is in the middle of the range you have experimented with before.\n",
        "\n",
        "* We do not require the defense to work perfectly - but what we want you to understand is why it works or why it does not work.\n",
        "\n",
        "**Hint:** You can save the checkpoint of the defended model as we would need it to for the third part of this exercise.\n"
      ]
    },
    {
      "cell_type": "code",
      "execution_count": null,
      "metadata": {
        "colab": {
          "base_uri": "https://localhost:8080/"
        },
        "id": "DD0UalSeymim",
        "outputId": "09a23fd8-d6c9-4d2a-b3c4-e3f6588d1d66"
      },
      "outputs": [
        {
          "output_type": "stream",
          "name": "stderr",
          "text": [
            "/usr/local/lib/python3.10/dist-packages/torch/utils/data/dataloader.py:557: UserWarning: This DataLoader will create 4 worker processes in total. Our suggested max number of worker in current system is 2, which is smaller than what this DataLoader is going to create. Please be aware that excessive worker creation might get DataLoader running slow or even freeze, lower the worker number to avoid potential slowness/freeze if necessary.\n",
            "  warnings.warn(_create_warning_msg(\n"
          ]
        },
        {
          "output_type": "stream",
          "name": "stdout",
          "text": [
            "Training Accuracy: 0.9745833333333334\n"
          ]
        }
      ],
      "source": [
        "robust_model = MNISTCNN()\n",
        "robust_model = robust_model.to(device)\n",
        "epsilon = 0.15\n",
        "criterion_robust = nn.CrossEntropyLoss()\n",
        "optimizer_robust = optim.Adam(robust_model.parameters(), lr=0.001)\n",
        "for epoch in range(epochs):\n",
        "    robust_model.train()\n",
        "    running_loss = 0.0\n",
        "    correct_train = 0\n",
        "    total_train = 0\n",
        "    for inputs, labels in train_loader:\n",
        "        inputs, labels = inputs.to(device), labels.to(device)\n",
        "        inputs.requires_grad = True\n",
        "        perturbed_inputs = fgsm(robust_model, inputs, labels, epsilon)\n",
        "        perturbed_outputs = robust_model(perturbed_inputs)\n",
        "        perturbed_loss = criterion_robust(perturbed_outputs, labels)\n",
        "        optimizer_robust.zero_grad()\n",
        "        perturbed_loss.backward()\n",
        "        optimizer_robust.step()\n",
        "\n",
        "        running_loss += loss.item()\n",
        "\n",
        "        _, predicted = torch.max(perturbed_outputs.data, 1)\n",
        "        total_train += labels.size(0)\n",
        "        correct_train += (predicted == labels).sum().item()\n",
        "\n",
        "    train_acc = correct_train / total_train\n",
        "    average_loss = running_loss / len(train_loader)\n",
        "\n",
        "print ('Training Accuracy:', train_acc)"
      ]
    },
    {
      "cell_type": "markdown",
      "metadata": {
        "id": "FAd7z5_O6hFb"
      },
      "source": [
        "## 2.2: Evaluation\n",
        "\n",
        "* Craft adversarial examples using the **defended** model. This entails at least 1,000 examples crafted via FGSM.\n",
        "    * Create one set using a budget that is **less than (within)** the one used in training.\n",
        "    * Create another set using a budget that is **higher than** the one used in training.\n",
        "    * You can use two values of epsilons from question 1.3\n",
        "    \n",
        "* Evaluate the **defended** model on these two adversarial examples sets.\n"
      ]
    },
    {
      "cell_type": "code",
      "execution_count": null,
      "metadata": {
        "colab": {
          "base_uri": "https://localhost:8080/"
        },
        "id": "Ke0xYoOY6hFb",
        "outputId": "65a945b5-5138-4a0c-ebc3-316f47b778dd"
      },
      "outputs": [
        {
          "output_type": "stream",
          "name": "stderr",
          "text": [
            "Epsilon = 0.1: 100%|██████████| 157/157 [00:03<00:00, 50.05it/s]\n",
            "Epsilon = 0.25: 100%|██████████| 157/157 [00:02<00:00, 61.07it/s]"
          ]
        },
        {
          "output_type": "stream",
          "name": "stdout",
          "text": [
            "\n",
            "Accuracy on the lower-budget adversarial samples (FGSM) 0.94\n",
            "Accuracy on the lower-budget adversarial samples (FGSM) after defense 0.98\n",
            "Accuracy on the higher-budget adversarial samples (FGSM) 0.64\n",
            "Accuracy on the higher-budget adversarial samples (FGSM) after defense 0.94\n"
          ]
        },
        {
          "output_type": "stream",
          "name": "stderr",
          "text": [
            "\n"
          ]
        }
      ],
      "source": [
        "eps = [0.1, 0.25]\n",
        "attack_datasets_robust = {}\n",
        "accuracy_robust = {}\n",
        "robust_model.eval()\n",
        "for epsilon in eps:\n",
        "  perturbed_images_epsilon = []\n",
        "  success_rate_epsilon = 0.0\n",
        "  correct = 0\n",
        "  total = 0\n",
        "  for images, labels in tqdm(test_loader, desc=f'Epsilon = {epsilon}'):\n",
        "      images, labels = images.to(device), labels.to(device)\n",
        "      perturbed_image = fgsm(robust_model, images, labels, epsilon)\n",
        "      perturbed_prediction = robust_model(perturbed_image)\n",
        "      perturbed_image = torch.clamp(perturbed_image.squeeze(), 0, 1)\n",
        "      perturbed_images_epsilon.append(perturbed_image)\n",
        "      _, predicted = perturbed_prediction.max(1)\n",
        "      total += labels.size(0)\n",
        "      correct += (predicted == labels).sum().item()\n",
        "\n",
        "  accuracy = correct / total\n",
        "  accuracy_robust[epsilon] = accuracy\n",
        "  attack_datasets_robust[epsilon] = perturbed_images_epsilon\n",
        "print ()\n",
        "print('Accuracy on the lower-budget adversarial samples (FGSM) %.2f'%accuracy_attacked[0.1])\n",
        "print('Accuracy on the lower-budget adversarial samples (FGSM) after defense %.2f'%accuracy_robust[0.1])\n",
        "\n",
        "print('Accuracy on the higher-budget adversarial samples (FGSM) %.2f'%accuracy_attacked[0.25])\n",
        "print('Accuracy on the higher-budget adversarial samples (FGSM) after defense %.2f'%accuracy_robust[0.25])"
      ]
    },
    {
      "cell_type": "markdown",
      "metadata": {
        "id": "HzgysIOh6hFb"
      },
      "source": [
        "## 2.3 Discussion\n",
        "\n",
        "* How successful was the defense against the attack compared to the undefended model? How do you interpret the difference?\n",
        "* How did the two sets differ?"
      ]
    },
    {
      "cell_type": "markdown",
      "metadata": {
        "id": "SeBc0VXq6hFb"
      },
      "source": [
        "* The defense successfully improved the robustness of model against the FGSM attack.\n",
        "* The two sets differ based on the perturbation budget, and if we compare the overall accuracy then the defended model performs better in both the scenario."
      ]
    },
    {
      "cell_type": "markdown",
      "metadata": {
        "id": "boc8RH3B6hFb"
      },
      "source": [
        "# 3: I-FGSM attack\n",
        "\n",
        "* FGSM is one of the simplest and earliest attacks. Since then, many more advanced attacks have been proposed.\n",
        "* One of them is the Iterative-FGSM (https://arxiv.org/pdf/1607.02533.pdf), where the attack is repeated multiple times.\n",
        "* In this part, we ask you to please implement the iterative FGSM attack.\n",
        "\n"
      ]
    },
    {
      "cell_type": "markdown",
      "metadata": {
        "id": "y2F7KIUG6hFb"
      },
      "source": [
        "## 3.1: Implementing the I-FGSM attack\n",
        "\n",
        "**Hints**:\n",
        "\n",
        "* Your code should have an attack loop. At each step, the FGSM attack that you have implemented before is computed using a small step.\n",
        "* After each step, you should perform a per-pixel clipping to make sure the image is in the allowed range, and that the perturbation is within budget.\n"
      ]
    },
    {
      "cell_type": "code",
      "execution_count": null,
      "metadata": {
        "id": "iLhKk3Xn6hFb"
      },
      "outputs": [],
      "source": [
        "def ifgsm(model, X, y, epsilon=0.1, alpha=0.01, num_iterations=10):\n",
        "    perturbed_X = X.clone().detach().requires_grad_(True)\n",
        "\n",
        "    for _ in range(num_iterations):\n",
        "        model.zero_grad()\n",
        "        loss = nn.CrossEntropyLoss()(model(perturbed_X), y)\n",
        "        loss.backward()\n",
        "        perturbation = alpha * perturbed_X.grad.detach().sign()\n",
        "        perturbation = torch.clamp(perturbation, -epsilon, epsilon)\n",
        "        perturbed_X.data = perturbed_X.data + perturbation\n",
        "        perturbed_X.grad.zero_()\n",
        "    return perturbed_X"
      ]
    },
    {
      "cell_type": "markdown",
      "metadata": {
        "id": "XarWUvsG6hFc"
      },
      "source": [
        "## 3.2: Attack the undefended model\n",
        "\n",
        "* We will first attack the **undefended model** (i.e., without adversarial training).\n",
        "\n",
        "* Choose one perturbation budget from Question **1.3** for comparison.\n",
        "\n",
        "    * Hint: A simple way to choose the small step is to divide the total budget by the number of steps (e.g., 10).\n",
        "\n",
        "* Please generate 1000 adversarial examples using the **undefended** model and the **I-FGSM** you implemented.\n",
        "\n",
        "* Please compute the accuracy of the adversarial set on the **undefended** model."
      ]
    },
    {
      "cell_type": "code",
      "execution_count": null,
      "metadata": {
        "colab": {
          "base_uri": "https://localhost:8080/"
        },
        "id": "ysc4mJdI6hFc",
        "outputId": "3d678971-5903-46ec-e452-d9bcb40aaf0c"
      },
      "outputs": [
        {
          "output_type": "stream",
          "name": "stderr",
          "text": [
            "Epsilon = 0.1: 100%|██████████| 157/157 [00:06<00:00, 24.40it/s]\n"
          ]
        },
        {
          "output_type": "stream",
          "name": "stdout",
          "text": [
            "Num of iterations used=10 Epsilon=0.1, Accuracy: 92.45%\n"
          ]
        },
        {
          "output_type": "stream",
          "name": "stderr",
          "text": [
            "Epsilon = 0.1: 100%|██████████| 157/157 [00:07<00:00, 21.31it/s]"
          ]
        },
        {
          "output_type": "stream",
          "name": "stdout",
          "text": [
            "Num of iterations used=20 Epsilon=0.1, Accuracy: 62.76%\n"
          ]
        },
        {
          "output_type": "stream",
          "name": "stderr",
          "text": [
            "\n"
          ]
        }
      ],
      "source": [
        "eps = [0.1]\n",
        "attack_datasets_ifgsm_attacked = {}\n",
        "accuracy_ifgsm_attacked = {}\n",
        "model = model.to(device)\n",
        "iterations_arr = [10, 20]\n",
        "for num_iter in iterations_arr:\n",
        "  for epsilon in eps:\n",
        "    perturbed_images_epsilon = []\n",
        "    success_rate_epsilon = 0.0\n",
        "    correct = 0\n",
        "    total = 0\n",
        "    for images, labels in tqdm(test_loader, desc=f'Epsilon = {epsilon}'):\n",
        "        images, labels = images.to(device), labels.to(device)\n",
        "        perturbed_image = ifgsm(model, images, labels, epsilon, num_iterations = num_iter)\n",
        "        perturbed_prediction = model(perturbed_image)\n",
        "        perturbed_image = torch.clamp(perturbed_image.squeeze(), 0, 1)\n",
        "        perturbed_images_epsilon.append(perturbed_image)\n",
        "        _, predicted = torch.max(perturbed_prediction.data, 1)\n",
        "        total += labels.size(0)\n",
        "        correct += (predicted == labels).sum().item()\n",
        "\n",
        "    accuracy = correct / total\n",
        "    accuracy_ifgsm_attacked[epsilon] = accuracy\n",
        "    print(f'Num of iterations used={num_iter} Epsilon={epsilon}, Accuracy: {accuracy * 100:.2f}%')\n",
        "    attack_datasets_ifgsm_attacked[epsilon] = perturbed_images_epsilon"
      ]
    },
    {
      "cell_type": "markdown",
      "metadata": {
        "id": "zbbuj66S6hFc"
      },
      "source": [
        "### 3.2.1: Findings and comparison with FGSM\n",
        "\n",
        "* Please report your findings. How successful was the attack?\n",
        "\n",
        "* What do you expect when increasing the number of steps? (you can experiment with different parameters of the attack and report your findings)\n",
        "\n",
        "* Compare with the basic FGSM. Using the same perturbation budget and using the same model, which attack is more successful? Why do you think this is the case? What about the computation time?\n",
        "\n",
        "* Feel free to report any interesting observations."
      ]
    },
    {
      "cell_type": "markdown",
      "metadata": {
        "id": "1Rj6pr7M6hFc"
      },
      "source": [
        "* The attack was quite succesful and degraded the accuracy. As the effect of iterative FGSM we can see it performs slighlty better compared to FGSM for a given perturbation budget.\n",
        "* On increasing the number of iterations the attack takes slighlty more time but also performs much better for exmaple - if the number of itereation is 10 then the accuracy is 92.84% but if we increase the number of iteration to 20 the accuracy reduces to 62 percent.\n",
        "* As mentioned before due to performing IFGSM iteratively the computation time is more comapred to vanilla FGSM but talking about the performace the IFGSM works better due to iteratively applying the attack for the same perturbation budget and it keeps on increasing if we increase number of iterataioons."
      ]
    },
    {
      "cell_type": "markdown",
      "metadata": {
        "id": "oX_8opGd6hFc"
      },
      "source": [
        "## 3.3: Attack the defended model\n",
        "\n",
        "* In the previous question, we attacked the **undefended model**.\n",
        "\n",
        "* Now, we want to explore how successful the previous implemented defense (FGSM adversarial training) is againts this new attack. (we will not implement a new defense here, we will be reusing your previous checkpoint of the **defended model**)\n",
        "\n",
        "\n",
        "* Use the **defended model** to create one set of adversarial examples. Use a perturbation budget from Question **2.2** for comparison.  "
      ]
    },
    {
      "cell_type": "code",
      "execution_count": null,
      "metadata": {
        "colab": {
          "base_uri": "https://localhost:8080/"
        },
        "id": "XOY7-_5T6hFc",
        "outputId": "2c13bacf-0588-474e-8a74-bff6102950bf"
      },
      "outputs": [
        {
          "output_type": "stream",
          "name": "stderr",
          "text": [
            "Epsilon = 0.1: 100%|██████████| 157/157 [00:06<00:00, 23.64it/s]"
          ]
        },
        {
          "output_type": "stream",
          "name": "stdout",
          "text": [
            "Epsilon=0.1, Accuracy: 97.41%\n"
          ]
        },
        {
          "output_type": "stream",
          "name": "stderr",
          "text": [
            "\n"
          ]
        }
      ],
      "source": [
        "eps = [0.1]\n",
        "attack_datasets_ifgsm_attacked = {}\n",
        "accuracy_ifgsm_robust = {}\n",
        "#model = model.to(device)\n",
        "for epsilon in eps:\n",
        "  perturbed_images_epsilon = []\n",
        "  success_rate_epsilon = 0.0\n",
        "  correct = 0\n",
        "  total = 0\n",
        "  for images, labels in tqdm(test_loader, desc=f'Epsilon = {epsilon}'):\n",
        "      images, labels = images.to(device), labels.to(device)\n",
        "      perturbed_image = ifgsm(robust_model, images, labels, epsilon)\n",
        "      perturbed_prediction = robust_model(perturbed_image)\n",
        "      perturbed_image = torch.clamp(perturbed_image.squeeze(), 0, 1)\n",
        "      perturbed_images_epsilon.append(perturbed_image)\n",
        "      _, predicted = torch.max(perturbed_prediction.data, 1)\n",
        "      total += labels.size(0)\n",
        "      correct += (predicted == labels).sum().item()\n",
        "\n",
        "  accuracy = correct / total\n",
        "  accuracy_ifgsm_robust[epsilon] = accuracy\n",
        "  print(f'Epsilon={epsilon}, Accuracy: {accuracy * 100:.2f}%')\n",
        "  attack_datasets_ifgsm_attacked[epsilon] = perturbed_images_epsilon"
      ]
    },
    {
      "cell_type": "markdown",
      "metadata": {
        "id": "D9tE3fnY6hFc"
      },
      "source": [
        "### 3.3.1: Discussion\n",
        "* Please report your results. How successful was the attack on the defended model?\n",
        "* Compare it with the success of the FGSM attack on the defended model. What do you observe? How do you interpret the difference?\n",
        "* How do you think you can improve the defense against I-FGSM attack?\n",
        "\n",
        "\n",
        "* Feel free to state any interesting findings you encountered during this project."
      ]
    },
    {
      "cell_type": "markdown",
      "metadata": {
        "id": "hd1H5ZlX6hFc"
      },
      "source": [
        "* It did help a lot to increase the accuracy. The attack was not that succeful after applying the defense on the model.\n",
        "* There is slight difference compared to the FGSM attck in the defended model. It maybe becuase the model was adversarially trained to defend the model against the vanilla FGSM attack.\n",
        "* We might improve the accuracy if we adversarially train the model using IFGSM attack."
      ]
    }
  ],
  "metadata": {
    "colab": {
      "provenance": [],
      "gpuType": "T4"
    },
    "kernelspec": {
      "display_name": "Python 3",
      "name": "python3"
    },
    "language_info": {
      "codemirror_mode": {
        "name": "ipython",
        "version": 3
      },
      "file_extension": ".py",
      "mimetype": "text/x-python",
      "name": "python",
      "nbconvert_exporter": "python",
      "pygments_lexer": "ipython3",
      "version": "3.8.10"
    },
    "accelerator": "GPU"
  },
  "nbformat": 4,
  "nbformat_minor": 0
}